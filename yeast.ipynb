{
  "nbformat": 4,
  "nbformat_minor": 0,
  "metadata": {
    "colab": {
      "name": "yeast.ipynb",
      "provenance": [],
      "collapsed_sections": []
    },
    "kernelspec": {
      "name": "python3",
      "display_name": "Python 3"
    }
  },
  "cells": [
    {
      "cell_type": "code",
      "metadata": {
        "id": "wXyHzoJispCI"
      },
      "source": [
        "import pandas\n",
        "import numpy as np\n",
        "# matplotlib inline\n",
        "from sklearn.preprocessing import LabelEncoder\n",
        "from pandas.plotting import scatter_matrix\n",
        "import matplotlib.pyplot as plt\n",
        "from sklearn import model_selection\n",
        "from sklearn.metrics import classification_report\n",
        "from sklearn.metrics import confusion_matrix\n",
        "from sklearn.metrics import accuracy_score\n",
        "from sklearn.linear_model import LogisticRegression\n",
        "from sklearn.tree import DecisionTreeClassifier\n",
        "from sklearn.neighbors import KNeighborsClassifier\n",
        "from sklearn.discriminant_analysis import LinearDiscriminantAnalysis\n",
        "from sklearn.discriminant_analysis import QuadraticDiscriminantAnalysis\n",
        "from sklearn.naive_bayes import GaussianNB\n",
        "from sklearn.svm import SVC\n",
        "from sklearn.model_selection import cross_val_score"
      ],
      "execution_count": 2,
      "outputs": []
    },
    {
      "cell_type": "code",
      "metadata": {
        "id": "JJKgeFIgu5jQ"
      },
      "source": [
        "url = \"https://archive.ics.uci.edu/ml/machine-learning-databases/yeast/yeast.data\"\n",
        "names = ['Sequence Name','mcg', 'gvh', 'alm', 'mit', 'erl','pox','vac','nuc','class']\n",
        "dataset = pandas.read_csv(url, names=names, delim_whitespace=True)"
      ],
      "execution_count": 3,
      "outputs": []
    },
    {
      "cell_type": "code",
      "metadata": {
        "id": "r-6KemEqu85K",
        "colab": {
          "base_uri": "https://localhost:8080/"
        },
        "outputId": "e06805c6-d4cc-47a2-f273-1633ed5cd33b"
      },
      "source": [
        "print(dataset.shape)"
      ],
      "execution_count": 4,
      "outputs": [
        {
          "output_type": "stream",
          "text": [
            "(1484, 10)\n"
          ],
          "name": "stdout"
        }
      ]
    },
    {
      "cell_type": "code",
      "metadata": {
        "id": "ZOOHr3Cqu_OV",
        "colab": {
          "base_uri": "https://localhost:8080/"
        },
        "outputId": "5eac240a-ae38-40f5-eeed-7311dacd01c5"
      },
      "source": [
        "print(dataset.head(10))"
      ],
      "execution_count": 5,
      "outputs": [
        {
          "output_type": "stream",
          "text": [
            "  Sequence Name   mcg   gvh   alm   mit  erl  pox   vac   nuc class\n",
            "0    ADT1_YEAST  0.58  0.61  0.47  0.13  0.5  0.0  0.48  0.22   MIT\n",
            "1    ADT2_YEAST  0.43  0.67  0.48  0.27  0.5  0.0  0.53  0.22   MIT\n",
            "2    ADT3_YEAST  0.64  0.62  0.49  0.15  0.5  0.0  0.53  0.22   MIT\n",
            "3    AAR2_YEAST  0.58  0.44  0.57  0.13  0.5  0.0  0.54  0.22   NUC\n",
            "4    AATM_YEAST  0.42  0.44  0.48  0.54  0.5  0.0  0.48  0.22   MIT\n",
            "5    AATC_YEAST  0.51  0.40  0.56  0.17  0.5  0.5  0.49  0.22   CYT\n",
            "6    ABC1_YEAST  0.50  0.54  0.48  0.65  0.5  0.0  0.53  0.22   MIT\n",
            "7    BAF1_YEAST  0.48  0.45  0.59  0.20  0.5  0.0  0.58  0.34   NUC\n",
            "8    ABF2_YEAST  0.55  0.50  0.66  0.36  0.5  0.0  0.49  0.22   MIT\n",
            "9    ABP1_YEAST  0.40  0.39  0.60  0.15  0.5  0.0  0.58  0.30   CYT\n"
          ],
          "name": "stdout"
        }
      ]
    },
    {
      "cell_type": "code",
      "metadata": {
        "id": "DUjoCgV4vDiu",
        "colab": {
          "base_uri": "https://localhost:8080/"
        },
        "outputId": "bcf72e2f-4e5e-4fd4-ca69-56b3d806045b"
      },
      "source": [
        "#descriptions\n",
        "print(dataset.describe())\n",
        "#class distribution\n",
        "print(dataset.groupby('class').size())"
      ],
      "execution_count": 6,
      "outputs": [
        {
          "output_type": "stream",
          "text": [
            "               mcg          gvh  ...          vac          nuc\n",
            "count  1484.000000  1484.000000  ...  1484.000000  1484.000000\n",
            "mean      0.500121     0.499933  ...     0.499885     0.276199\n",
            "std       0.137299     0.123924  ...     0.057797     0.106491\n",
            "min       0.110000     0.130000  ...     0.000000     0.000000\n",
            "25%       0.410000     0.420000  ...     0.480000     0.220000\n",
            "50%       0.490000     0.490000  ...     0.510000     0.220000\n",
            "75%       0.580000     0.570000  ...     0.530000     0.300000\n",
            "max       1.000000     1.000000  ...     0.730000     1.000000\n",
            "\n",
            "[8 rows x 8 columns]\n",
            "class\n",
            "CYT    463\n",
            "ERL      5\n",
            "EXC     35\n",
            "ME1     44\n",
            "ME2     51\n",
            "ME3    163\n",
            "MIT    244\n",
            "NUC    429\n",
            "POX     20\n",
            "VAC     30\n",
            "dtype: int64\n"
          ],
          "name": "stdout"
        }
      ]
    },
    {
      "cell_type": "code",
      "metadata": {
        "id": "DbhuryuxvIHt",
        "colab": {
          "base_uri": "https://localhost:8080/",
          "height": 265
        },
        "outputId": "31aa3de6-15a4-43ad-8bc7-0687a7a0880e"
      },
      "source": [
        "dataset.plot(kind='box', subplots=True,  sharex=False, sharey=False)\n",
        "plt.show()"
      ],
      "execution_count": 7,
      "outputs": [
        {
          "output_type": "display_data",
          "data": {
            "image/png": "[encoded data removed]",
            "text/plain": [
              "<Figure size 432x288 with 8 Axes>"
            ]
          },
          "metadata": {
            "tags": [],
            "needs_background": "light"
          }
        }
      ]
    },
    {
      "cell_type": "code",
      "metadata": {
        "id": "2TUwFkeivK3L",
        "colab": {
          "base_uri": "https://localhost:8080/",
          "height": 281
        },
        "outputId": "f0872795-0786-4e68-ddfd-720e80704fef"
      },
      "source": [
        "dataset.hist()\n",
        "plt.show()"
      ],
      "execution_count": 8,
      "outputs": [
        {
          "output_type": "display_data",
          "data": {
            "image/png": "[encoded data removed]",
            "text/plain": [
              "<Figure size 432x288 with 9 Axes>"
            ]
          },
          "metadata": {
            "tags": [],
            "needs_background": "light"
          }
        }
      ]
    },
    {
      "cell_type": "code",
      "metadata": {
        "id": "wAzPRdh7PnlG",
        "colab": {
          "base_uri": "https://localhost:8080/",
          "height": 295
        },
        "outputId": "99e1a14b-36f8-4592-a94f-f217e2455e4c"
      },
      "source": [
        "dataset['class'].value_counts().plot.bar()"
      ],
      "execution_count": 9,
      "outputs": [
        {
          "output_type": "execute_result",
          "data": {
            "text/plain": [
              "<matplotlib.axes._subplots.AxesSubplot at 0x7f5c37059850>"
            ]
          },
          "metadata": {
            "tags": []
          },
          "execution_count": 9
        },
        {
          "output_type": "display_data",
          "data": {
            "image/png": "[encoded data removed]",
            "text/plain": [
              "<Figure size 432x288 with 1 Axes>"
            ]
          },
          "metadata": {
            "tags": [],
            "needs_background": "light"
          }
        }
      ]
    },
    {
      "cell_type": "code",
      "metadata": {
        "id": "KZdDZ0WUP5uU",
        "colab": {
          "base_uri": "https://localhost:8080/"
        },
        "outputId": "9e9c5e95-84c2-4e25-ad2b-59283ba11b67"
      },
      "source": [
        "print('Proportion of the classes:')\n",
        "print(dataset['class'].value_counts() / len(dataset))"
      ],
      "execution_count": 10,
      "outputs": [
        {
          "output_type": "stream",
          "text": [
            "Proportion of the classes:\n",
            "CYT    0.311995\n",
            "NUC    0.289084\n",
            "MIT    0.164420\n",
            "ME3    0.109838\n",
            "ME2    0.034367\n",
            "ME1    0.029650\n",
            "EXC    0.023585\n",
            "VAC    0.020216\n",
            "POX    0.013477\n",
            "ERL    0.003369\n",
            "Name: class, dtype: float64\n"
          ],
          "name": "stdout"
        }
      ]
    },
    {
      "cell_type": "code",
      "metadata": {
        "id": "hLgYU3PJvOR9",
        "colab": {
          "base_uri": "https://localhost:8080/"
        },
        "outputId": "25947b37-9f9a-4883-8144-b0cb6893b681"
      },
      "source": [
        "array = dataset.values\n",
        "X = array[:,1:9]\n",
        "Y = array[:,9]\n",
        "validation_size = 0.025\n",
        "seed = 7\n",
        "#data division and mixing\n",
        "X_train, X_validation, Y_train, Y_validation = model_selection.train_test_split(X, Y, test_size=validation_size, random_state=seed)\n",
        "print (X_train.shape, X_validation.shape, Y_train.shape, Y_validation.shape)"
      ],
      "execution_count": 11,
      "outputs": [
        {
          "output_type": "stream",
          "text": [
            "(1446, 8) (38, 8) (1446,) (38,)\n"
          ],
          "name": "stdout"
        }
      ]
    },
    {
      "cell_type": "code",
      "metadata": {
        "id": "iDfIjq3Ay46Q"
      },
      "source": [
        "seed = 7\n",
        "\n",
        "models = []\n",
        "models.append(('CART', DecisionTreeClassifier()))\n",
        "models.append(('SVM', SVC()))\n",
        "models.append(('KNN', KNeighborsClassifier()))\n",
        "models.append(('GNB', GaussianNB()))"
      ],
      "execution_count": 12,
      "outputs": []
    },
    {
      "cell_type": "code",
      "metadata": {
        "id": "CoFEPAEC1qAT",
        "colab": {
          "base_uri": "https://localhost:8080/"
        },
        "outputId": "07e340a6-06d5-4acb-cdc2-4bb14d1d6d6a"
      },
      "source": [
        "results = []\n",
        "names = []\n",
        "i=0\n",
        "for name, model in models:\n",
        "      \n",
        "\tkfold = model_selection.KFold(n_splits=30, random_state=seed)\n",
        "\tcv_results = model_selection.cross_val_score(model, X_train, Y_train, cv = kfold, scoring = 'accuracy')\n",
        "\tresults.append(cv_results)\n",
        "\tnames.append(name)\n",
        "\tprint (\"%s: %f (%f)\" % (name, cv_results.mean(), cv_results.std()))"
      ],
      "execution_count": 13,
      "outputs": [
        {
          "output_type": "stream",
          "text": [
            "/usr/local/lib/python3.7/dist-packages/sklearn/model_selection/_split.py:296: FutureWarning: Setting a random_state has no effect since shuffle is False. This will raise an error in 0.24. You should leave random_state to its default (None), or set shuffle=True.\n",
            "  FutureWarning\n"
          ],
          "name": "stderr"
        },
        {
          "output_type": "stream",
          "text": [
            "CART: 0.517531 (0.063608)\n"
          ],
          "name": "stdout"
        },
        {
          "output_type": "stream",
          "text": [
            "/usr/local/lib/python3.7/dist-packages/sklearn/model_selection/_split.py:296: FutureWarning: Setting a random_state has no effect since shuffle is False. This will raise an error in 0.24. You should leave random_state to its default (None), or set shuffle=True.\n",
            "  FutureWarning\n"
          ],
          "name": "stderr"
        },
        {
          "output_type": "stream",
          "text": [
            "SVM: 0.602324 (0.068131)\n"
          ],
          "name": "stdout"
        },
        {
          "output_type": "stream",
          "text": [
            "/usr/local/lib/python3.7/dist-packages/sklearn/model_selection/_split.py:296: FutureWarning: Setting a random_state has no effect since shuffle is False. This will raise an error in 0.24. You should leave random_state to its default (None), or set shuffle=True.\n",
            "  FutureWarning\n"
          ],
          "name": "stderr"
        },
        {
          "output_type": "stream",
          "text": [
            "KNN: 0.559453 (0.062915)\n",
            "GNB: 0.151545 (0.059964)\n"
          ],
          "name": "stdout"
        },
        {
          "output_type": "stream",
          "text": [
            "/usr/local/lib/python3.7/dist-packages/sklearn/model_selection/_split.py:296: FutureWarning: Setting a random_state has no effect since shuffle is False. This will raise an error in 0.24. You should leave random_state to its default (None), or set shuffle=True.\n",
            "  FutureWarning\n"
          ],
          "name": "stderr"
        }
      ]
    },
    {
      "cell_type": "code",
      "metadata": {
        "id": "-HFuGGFF3T1y",
        "colab": {
          "base_uri": "https://localhost:8080/",
          "height": 294
        },
        "outputId": "dc4d72d3-b2e8-429b-e0c5-3e8f35656b36"
      },
      "source": [
        "fig = plt.figure()\n",
        "fig.suptitle('Algorithm Comparison')\n",
        "ax = fig.add_subplot(111)\n",
        "plt.boxplot(results)\n",
        "ax.set_xticklabels(names)\n",
        "plt.show()"
      ],
      "execution_count": 14,
      "outputs": [
        {
          "output_type": "display_data",
          "data": {
            "image/png": "[encoded data removed]",
            "text/plain": [
              "<Figure size 432x288 with 1 Axes>"
            ]
          },
          "metadata": {
            "tags": [],
            "needs_background": "light"
          }
        }
      ]
    },
    {
      "cell_type": "code",
      "metadata": {
        "id": "XKcTl5Kr3bNb",
        "colab": {
          "base_uri": "https://localhost:8080/"
        },
        "outputId": "20997dbf-fe51-4fe8-f171-5f638b33dd08"
      },
      "source": [
        "knn = KNeighborsClassifier()\n",
        "knn.fit(X_train, Y_train)\n",
        "predictions = knn.predict(X_validation)\n",
        "\n",
        "print(accuracy_score(Y_validation, predictions))\n",
        "print(confusion_matrix(Y_validation, predictions))\n",
        "print(classification_report(Y_validation, predictions))"
      ],
      "execution_count": 26,
      "outputs": [
        {
          "output_type": "stream",
          "text": [
            "0.5\n",
            "[[5 0 0 0 3 3]\n",
            " [0 0 0 0 0 0]\n",
            " [0 0 0 1 1 0]\n",
            " [1 0 0 5 1 0]\n",
            " [1 1 1 0 4 0]\n",
            " [6 0 0 0 0 5]]\n",
            "              precision    recall  f1-score   support\n",
            "\n",
            "         CYT       0.38      0.45      0.42        11\n",
            "         EXC       0.00      0.00      0.00         0\n",
            "         ME2       0.00      0.00      0.00         2\n",
            "         ME3       0.83      0.71      0.77         7\n",
            "         MIT       0.44      0.57      0.50         7\n",
            "         NUC       0.62      0.45      0.53        11\n",
            "\n",
            "    accuracy                           0.50        38\n",
            "   macro avg       0.38      0.37      0.37        38\n",
            "weighted avg       0.53      0.50      0.51        38\n",
            "\n"
          ],
          "name": "stdout"
        },
        {
          "output_type": "stream",
          "text": [
            "/usr/local/lib/python3.7/dist-packages/sklearn/metrics/_classification.py:1272: UndefinedMetricWarning: Recall and F-score are ill-defined and being set to 0.0 in labels with no true samples. Use `zero_division` parameter to control this behavior.\n",
            "  _warn_prf(average, modifier, msg_start, len(result))\n"
          ],
          "name": "stderr"
        }
      ]
    },
    {
      "cell_type": "code",
      "metadata": {
        "id": "r4t4oRdEnxJy",
        "colab": {
          "base_uri": "https://localhost:8080/"
        },
        "outputId": "821370c6-7449-47da-a4a1-1014aba6e2a6"
      },
      "source": [
        "svm = SVC()\n",
        "svm.fit(X_train, Y_train)\n",
        "predictions = svm.predict(X_validation)\n",
        "\n",
        "print(accuracy_score(Y_validation, predictions))\n",
        "print(confusion_matrix(Y_validation, predictions))\n",
        "print(classification_report(Y_validation, predictions))"
      ],
      "execution_count": 16,
      "outputs": [
        {
          "output_type": "stream",
          "text": [
            "0.5526315789473685\n",
            "[[8 0 0 2 1]\n",
            " [0 0 1 1 0]\n",
            " [1 0 4 1 1]\n",
            " [2 1 0 4 0]\n",
            " [6 0 0 0 5]]\n",
            "              precision    recall  f1-score   support\n",
            "\n",
            "         CYT       0.47      0.73      0.57        11\n",
            "         ME2       0.00      0.00      0.00         2\n",
            "         ME3       0.80      0.57      0.67         7\n",
            "         MIT       0.50      0.57      0.53         7\n",
            "         NUC       0.71      0.45      0.56        11\n",
            "\n",
            "    accuracy                           0.55        38\n",
            "   macro avg       0.50      0.46      0.47        38\n",
            "weighted avg       0.58      0.55      0.55        38\n",
            "\n"
          ],
          "name": "stdout"
        }
      ]
    },
    {
      "cell_type": "code",
      "metadata": {
        "id": "kv0ZkCAxn7R-",
        "colab": {
          "base_uri": "https://localhost:8080/"
        },
        "outputId": "73dc10f0-15bb-40ff-b982-fd588c62e14b"
      },
      "source": [
        "cart = DecisionTreeClassifier() \n",
        "cart.fit(X_train, Y_train.ravel()) \n",
        "predictions = cart.predict(X_validation) \n",
        "\n",
        "print(accuracy_score(Y_validation, predictions))\n",
        "print(confusion_matrix(Y_validation, predictions))\n",
        "print(classification_report(Y_validation, predictions))"
      ],
      "execution_count": 17,
      "outputs": [
        {
          "output_type": "stream",
          "text": [
            "0.4473684210526316\n",
            "[[7 0 1 2 1]\n",
            " [0 1 0 1 0]\n",
            " [0 0 4 1 2]\n",
            " [2 1 0 2 2]\n",
            " [6 0 2 0 3]]\n",
            "              precision    recall  f1-score   support\n",
            "\n",
            "         CYT       0.47      0.64      0.54        11\n",
            "         ME2       0.50      0.50      0.50         2\n",
            "         ME3       0.57      0.57      0.57         7\n",
            "         MIT       0.33      0.29      0.31         7\n",
            "         NUC       0.38      0.27      0.32        11\n",
            "\n",
            "    accuracy                           0.45        38\n",
            "   macro avg       0.45      0.45      0.45        38\n",
            "weighted avg       0.44      0.45      0.44        38\n",
            "\n"
          ],
          "name": "stdout"
        }
      ]
    },
    {
      "cell_type": "code",
      "metadata": {
        "id": "F08jPn-loEml",
        "colab": {
          "base_uri": "https://localhost:8080/"
        },
        "outputId": "62c4a305-9a87-4a12-ff10-d0ffc1e4f3ca"
      },
      "source": [
        "gnb = GaussianNB()\n",
        "gnb.partial_fit(X_train, Y_train, np.unique(Y_train))\n",
        "predictions = gnb.predict(X_validation)\n",
        "\n",
        "print(accuracy_score(Y_validation, predictions))\n",
        "print(confusion_matrix(Y_validation, predictions))\n",
        "print(classification_report(Y_validation, predictions))"
      ],
      "execution_count": 18,
      "outputs": [
        {
          "output_type": "stream",
          "text": [
            "0.07894736842105263\n",
            "[[ 0  1  0  0  1  1  8]\n",
            " [ 0  0  0  0  0  0  0]\n",
            " [ 0  1  0  0  0  0  1]\n",
            " [ 0  0  0  0  0  0  7]\n",
            " [ 0  2  0  0  2  0  3]\n",
            " [ 0  0  0  0  0  1 10]\n",
            " [ 0  0  0  0  0  0  0]]\n",
            "              precision    recall  f1-score   support\n",
            "\n",
            "         CYT       0.00      0.00      0.00        11\n",
            "         EXC       0.00      0.00      0.00         0\n",
            "         ME2       0.00      0.00      0.00         2\n",
            "         ME3       0.00      0.00      0.00         7\n",
            "         MIT       0.67      0.29      0.40         7\n",
            "         NUC       0.50      0.09      0.15        11\n",
            "         VAC       0.00      0.00      0.00         0\n",
            "\n",
            "    accuracy                           0.08        38\n",
            "   macro avg       0.17      0.05      0.08        38\n",
            "weighted avg       0.27      0.08      0.12        38\n",
            "\n"
          ],
          "name": "stdout"
        },
        {
          "output_type": "stream",
          "text": [
            "/usr/local/lib/python3.7/dist-packages/sklearn/metrics/_classification.py:1272: UndefinedMetricWarning: Precision and F-score are ill-defined and being set to 0.0 in labels with no predicted samples. Use `zero_division` parameter to control this behavior.\n",
            "  _warn_prf(average, modifier, msg_start, len(result))\n",
            "/usr/local/lib/python3.7/dist-packages/sklearn/metrics/_classification.py:1272: UndefinedMetricWarning: Recall and F-score are ill-defined and being set to 0.0 in labels with no true samples. Use `zero_division` parameter to control this behavior.\n",
            "  _warn_prf(average, modifier, msg_start, len(result))\n"
          ],
          "name": "stderr"
        }
      ]
    },
    {
      "cell_type": "code",
      "metadata": {
        "id": "DXXMocV4Q38k",
        "colab": {
          "base_uri": "https://localhost:8080/"
        },
        "outputId": "f4d84229-a2f3-4a1d-e4e9-d3057527410c"
      },
      "source": [
        "from imblearn.over_sampling import SMOTE\n",
        "sm = SMOTE(kind='regular',k_neighbors=4)"
      ],
      "execution_count": 19,
      "outputs": [
        {
          "output_type": "stream",
          "text": [
            "/usr/local/lib/python3.7/dist-packages/sklearn/externals/six.py:31: FutureWarning: The module is deprecated in version 0.21 and will be removed in version 0.23 since we've dropped support for Python 2.7. Please rely on the official version of six (https://pypi.org/project/six/).\n",
            "  \"(https://pypi.org/project/six/).\", FutureWarning)\n",
            "/usr/local/lib/python3.7/dist-packages/sklearn/utils/deprecation.py:144: FutureWarning: The sklearn.neighbors.base module is  deprecated in version 0.22 and will be removed in version 0.24. The corresponding classes / functions should instead be imported from sklearn.neighbors. Anything that cannot be imported from sklearn.neighbors is now part of the private API.\n",
            "  warnings.warn(message, FutureWarning)\n"
          ],
          "name": "stderr"
        }
      ]
    },
    {
      "cell_type": "code",
      "metadata": {
        "id": "VYentfEpQ-FR",
        "colab": {
          "base_uri": "https://localhost:8080/"
        },
        "outputId": "0d3673c7-a05b-4946-de35-37c321a6bf09"
      },
      "source": [
        "X_train_new, Y_train_new = sm.fit_sample(X_train, Y_train)"
      ],
      "execution_count": 20,
      "outputs": [
        {
          "output_type": "stream",
          "text": [
            "/usr/local/lib/python3.7/dist-packages/sklearn/utils/deprecation.py:87: FutureWarning: Function safe_indexing is deprecated; safe_indexing is deprecated in version 0.22 and will be removed in version 0.24.\n",
            "  warnings.warn(msg, category=FutureWarning)\n",
            "/usr/local/lib/python3.7/dist-packages/sklearn/utils/deprecation.py:87: FutureWarning: Function safe_indexing is deprecated; safe_indexing is deprecated in version 0.22 and will be removed in version 0.24.\n",
            "  warnings.warn(msg, category=FutureWarning)\n",
            "/usr/local/lib/python3.7/dist-packages/sklearn/utils/deprecation.py:87: FutureWarning: Function safe_indexing is deprecated; safe_indexing is deprecated in version 0.22 and will be removed in version 0.24.\n",
            "  warnings.warn(msg, category=FutureWarning)\n",
            "/usr/local/lib/python3.7/dist-packages/sklearn/utils/deprecation.py:87: FutureWarning: Function safe_indexing is deprecated; safe_indexing is deprecated in version 0.22 and will be removed in version 0.24.\n",
            "  warnings.warn(msg, category=FutureWarning)\n",
            "/usr/local/lib/python3.7/dist-packages/sklearn/utils/deprecation.py:87: FutureWarning: Function safe_indexing is deprecated; safe_indexing is deprecated in version 0.22 and will be removed in version 0.24.\n",
            "  warnings.warn(msg, category=FutureWarning)\n",
            "/usr/local/lib/python3.7/dist-packages/sklearn/utils/deprecation.py:87: FutureWarning: Function safe_indexing is deprecated; safe_indexing is deprecated in version 0.22 and will be removed in version 0.24.\n",
            "  warnings.warn(msg, category=FutureWarning)\n",
            "/usr/local/lib/python3.7/dist-packages/sklearn/utils/deprecation.py:87: FutureWarning: Function safe_indexing is deprecated; safe_indexing is deprecated in version 0.22 and will be removed in version 0.24.\n",
            "  warnings.warn(msg, category=FutureWarning)\n",
            "/usr/local/lib/python3.7/dist-packages/sklearn/utils/deprecation.py:87: FutureWarning: Function safe_indexing is deprecated; safe_indexing is deprecated in version 0.22 and will be removed in version 0.24.\n",
            "  warnings.warn(msg, category=FutureWarning)\n",
            "/usr/local/lib/python3.7/dist-packages/sklearn/utils/deprecation.py:87: FutureWarning: Function safe_indexing is deprecated; safe_indexing is deprecated in version 0.22 and will be removed in version 0.24.\n",
            "  warnings.warn(msg, category=FutureWarning)\n"
          ],
          "name": "stderr"
        }
      ]
    },
    {
      "cell_type": "code",
      "metadata": {
        "id": "kXFNe_6CRat8",
        "colab": {
          "base_uri": "https://localhost:8080/",
          "height": 295
        },
        "outputId": "81b3d0fb-5225-4c55-c51e-d74d9c731acc"
      },
      "source": [
        "# observe that data has been balanced\n",
        "pandas.Series(Y_train_new).value_counts().plot.bar()"
      ],
      "execution_count": 21,
      "outputs": [
        {
          "output_type": "execute_result",
          "data": {
            "text/plain": [
              "<matplotlib.axes._subplots.AxesSubplot at 0x7f5c363f99d0>"
            ]
          },
          "metadata": {
            "tags": []
          },
          "execution_count": 21
        },
        {
          "output_type": "display_data",
          "data": {
            "image/png": "[encoded data removed]",
            "text/plain": [
              "<Figure size 432x288 with 1 Axes>"
            ]
          },
          "metadata": {
            "tags": [],
            "needs_background": "light"
          }
        }
      ]
    },
    {
      "cell_type": "code",
      "metadata": {
        "id": "sqPPSUUoSFon",
        "colab": {
          "base_uri": "https://localhost:8080/"
        },
        "outputId": "64689085-efc4-4d19-a3ba-72fca391ce96"
      },
      "source": [
        "knn = KNeighborsClassifier()\n",
        "knn.fit(X_train_new, Y_train_new)\n",
        "predictions_sm = knn.predict(X_validation)\n",
        "\n",
        "print(accuracy_score(Y_validation, predictions_sm))\n",
        "print(confusion_matrix(Y_validation, predictions_sm))\n",
        "print(classification_report(Y_validation, predictions_sm))"
      ],
      "execution_count": 22,
      "outputs": [
        {
          "output_type": "stream",
          "text": [
            "0.5\n",
            "[[4 0 0 2 2 2 1]\n",
            " [0 1 1 0 0 0 0]\n",
            " [0 0 6 1 0 0 0]\n",
            " [1 1 0 4 0 1 0]\n",
            " [4 0 0 0 4 0 3]\n",
            " [0 0 0 0 0 0 0]\n",
            " [0 0 0 0 0 0 0]]\n",
            "              precision    recall  f1-score   support\n",
            "\n",
            "         CYT       0.44      0.36      0.40        11\n",
            "         ME2       0.50      0.50      0.50         2\n",
            "         ME3       0.86      0.86      0.86         7\n",
            "         MIT       0.57      0.57      0.57         7\n",
            "         NUC       0.67      0.36      0.47        11\n",
            "         POX       0.00      0.00      0.00         0\n",
            "         VAC       0.00      0.00      0.00         0\n",
            "\n",
            "    accuracy                           0.50        38\n",
            "   macro avg       0.43      0.38      0.40        38\n",
            "weighted avg       0.61      0.50      0.54        38\n",
            "\n"
          ],
          "name": "stdout"
        },
        {
          "output_type": "stream",
          "text": [
            "/usr/local/lib/python3.7/dist-packages/sklearn/metrics/_classification.py:1272: UndefinedMetricWarning: Recall and F-score are ill-defined and being set to 0.0 in labels with no true samples. Use `zero_division` parameter to control this behavior.\n",
            "  _warn_prf(average, modifier, msg_start, len(result))\n"
          ],
          "name": "stderr"
        }
      ]
    },
    {
      "cell_type": "code",
      "metadata": {
        "id": "Gys5MThdoaCr",
        "colab": {
          "base_uri": "https://localhost:8080/"
        },
        "outputId": "76b4059d-c9f8-4612-9a78-51d1e89dbe8a"
      },
      "source": [
        "svm = SVC()\n",
        "svm.fit(X_train_new, Y_train_new)\n",
        "predictions_sm = svm.predict(X_validation)\n",
        "\n",
        "print(accuracy_score(Y_validation, predictions_sm))\n",
        "print(confusion_matrix(Y_validation, predictions_sm))\n",
        "print(classification_report(Y_validation, predictions_sm))"
      ],
      "execution_count": 23,
      "outputs": [
        {
          "output_type": "stream",
          "text": [
            "0.5789473684210527\n",
            "[[7 1 0 2 1 0]\n",
            " [0 2 0 0 0 0]\n",
            " [0 1 4 0 1 1]\n",
            " [1 2 0 4 0 0]\n",
            " [3 0 0 0 5 3]\n",
            " [0 0 0 0 0 0]]\n",
            "              precision    recall  f1-score   support\n",
            "\n",
            "         CYT       0.64      0.64      0.64        11\n",
            "         ME2       0.33      1.00      0.50         2\n",
            "         ME3       1.00      0.57      0.73         7\n",
            "         MIT       0.67      0.57      0.62         7\n",
            "         NUC       0.71      0.45      0.56        11\n",
            "         VAC       0.00      0.00      0.00         0\n",
            "\n",
            "    accuracy                           0.58        38\n",
            "   macro avg       0.56      0.54      0.51        38\n",
            "weighted avg       0.72      0.58      0.62        38\n",
            "\n"
          ],
          "name": "stdout"
        },
        {
          "output_type": "stream",
          "text": [
            "/usr/local/lib/python3.7/dist-packages/sklearn/metrics/_classification.py:1272: UndefinedMetricWarning: Recall and F-score are ill-defined and being set to 0.0 in labels with no true samples. Use `zero_division` parameter to control this behavior.\n",
            "  _warn_prf(average, modifier, msg_start, len(result))\n"
          ],
          "name": "stderr"
        }
      ]
    },
    {
      "cell_type": "code",
      "metadata": {
        "id": "ey0hWw7yoqj8",
        "colab": {
          "base_uri": "https://localhost:8080/"
        },
        "outputId": "e8f52ea9-45ad-48c5-bc99-1f7664bc8232"
      },
      "source": [
        "cart = DecisionTreeClassifier() \n",
        "cart.fit(X_train_new, Y_train_new) \n",
        "predictions_sm = cart.predict(X_validation) \n",
        "\n",
        "print(accuracy_score(Y_validation, predictions_sm))\n",
        "print(confusion_matrix(Y_validation, predictions_sm))\n",
        "print(classification_report(Y_validation, predictions_sm))"
      ],
      "execution_count": 24,
      "outputs": [
        {
          "output_type": "stream",
          "text": [
            "0.47368421052631576\n",
            "[[6 1 0 2 2 0 0]\n",
            " [0 0 1 0 0 0 1]\n",
            " [0 0 5 1 1 0 0]\n",
            " [2 1 0 2 1 1 0]\n",
            " [3 0 0 1 5 0 2]\n",
            " [0 0 0 0 0 0 0]\n",
            " [0 0 0 0 0 0 0]]\n",
            "              precision    recall  f1-score   support\n",
            "\n",
            "         CYT       0.55      0.55      0.55        11\n",
            "         ME2       0.00      0.00      0.00         2\n",
            "         ME3       0.83      0.71      0.77         7\n",
            "         MIT       0.33      0.29      0.31         7\n",
            "         NUC       0.56      0.45      0.50        11\n",
            "         POX       0.00      0.00      0.00         0\n",
            "         VAC       0.00      0.00      0.00         0\n",
            "\n",
            "    accuracy                           0.47        38\n",
            "   macro avg       0.32      0.29      0.30        38\n",
            "weighted avg       0.53      0.47      0.50        38\n",
            "\n"
          ],
          "name": "stdout"
        },
        {
          "output_type": "stream",
          "text": [
            "/usr/local/lib/python3.7/dist-packages/sklearn/metrics/_classification.py:1272: UndefinedMetricWarning: Recall and F-score are ill-defined and being set to 0.0 in labels with no true samples. Use `zero_division` parameter to control this behavior.\n",
            "  _warn_prf(average, modifier, msg_start, len(result))\n"
          ],
          "name": "stderr"
        }
      ]
    },
    {
      "cell_type": "code",
      "metadata": {
        "id": "DVCKbLAcpMah",
        "colab": {
          "base_uri": "https://localhost:8080/"
        },
        "outputId": "3dd8119d-5a92-49ad-e2fa-f63a806e5b3c"
      },
      "source": [
        "gnb = GaussianNB()\n",
        "gnb.partial_fit(X_train_new, Y_train_new, np.unique(Y_train_new))\n",
        "predictions_sm = gnb.predict(X_validation)\n",
        "\n",
        "print(accuracy_score(Y_validation, predictions_sm))\n",
        "print(confusion_matrix(Y_validation, predictions_sm))\n",
        "print(classification_report(Y_validation, predictions_sm))"
      ],
      "execution_count": 25,
      "outputs": [
        {
          "output_type": "stream",
          "text": [
            "0.07894736842105263\n",
            "[[ 0  0  0  0  0  1  1  9]\n",
            " [ 0  0  0  0  0  0  0  0]\n",
            " [ 0  0  0  0  0  0  0  0]\n",
            " [ 0  0  0  0  0  0  0  2]\n",
            " [ 0  0  0  0  0  0  0  7]\n",
            " [ 0  1  1  0  0  2  0  3]\n",
            " [ 0  0  0  0  0  0  1 10]\n",
            " [ 0  0  0  0  0  0  0  0]]\n",
            "              precision    recall  f1-score   support\n",
            "\n",
            "         CYT       0.00      0.00      0.00        11\n",
            "         EXC       0.00      0.00      0.00         0\n",
            "         ME1       0.00      0.00      0.00         0\n",
            "         ME2       0.00      0.00      0.00         2\n",
            "         ME3       0.00      0.00      0.00         7\n",
            "         MIT       0.67      0.29      0.40         7\n",
            "         NUC       0.50      0.09      0.15        11\n",
            "         VAC       0.00      0.00      0.00         0\n",
            "\n",
            "    accuracy                           0.08        38\n",
            "   macro avg       0.15      0.05      0.07        38\n",
            "weighted avg       0.27      0.08      0.12        38\n",
            "\n"
          ],
          "name": "stdout"
        },
        {
          "output_type": "stream",
          "text": [
            "/usr/local/lib/python3.7/dist-packages/sklearn/metrics/_classification.py:1272: UndefinedMetricWarning: Precision and F-score are ill-defined and being set to 0.0 in labels with no predicted samples. Use `zero_division` parameter to control this behavior.\n",
            "  _warn_prf(average, modifier, msg_start, len(result))\n",
            "/usr/local/lib/python3.7/dist-packages/sklearn/metrics/_classification.py:1272: UndefinedMetricWarning: Recall and F-score are ill-defined and being set to 0.0 in labels with no true samples. Use `zero_division` parameter to control this behavior.\n",
            "  _warn_prf(average, modifier, msg_start, len(result))\n"
          ],
          "name": "stderr"
        }
      ]
    }
  ]
}